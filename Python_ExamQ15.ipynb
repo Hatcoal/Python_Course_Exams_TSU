{
 "cells": [
  {
   "cell_type": "code",
   "execution_count": null,
   "id": "e7ea9dee-506c-4b66-aa7c-a7c90fa0ed5a",
   "metadata": {},
   "outputs": [],
   "source": [
    "#Q15 \n",
    "# Why do we need Try-Except blocks? What does it mean to raise an error? Demonstrate.\n"
   ]
  },
  {
   "cell_type": "code",
   "execution_count": 3,
   "id": "80cfedca-16ba-4adc-8e4a-e9b0f0b669b0",
   "metadata": {},
   "outputs": [
    {
     "name": "stdin",
     "output_type": "stream",
     "text": [
      "Enter a number:  4\n",
      "Enter another number:  5\n"
     ]
    },
    {
     "name": "stdout",
     "output_type": "stream",
     "text": [
      "The sum is: 9.0\n"
     ]
    }
   ],
   "source": [
    "#Try-Except blocks are used are meant to be used in situations where an error could possibly happen, and the goal is to make sure the program doesn't crash or burn  out.\n",
    "#they do not function in the manner as a while loop-which merely loops through your code.\n",
    "#Try-Except handles  exceptions.\n",
    "\n",
    "x = float(input(\"Enter a number: \")) \n",
    "y = float(input(\"Enter another number: \")) \n",
    " \n",
    "print(\"The sum is:\", x + y)\n"
   ]
  },
  {
   "cell_type": "code",
   "execution_count": 18,
   "id": "1875a733-2af7-4180-a106-3b75186aea8c",
   "metadata": {},
   "outputs": [
    {
     "name": "stdin",
     "output_type": "stream",
     "text": [
      "Enter a number:  blah\n"
     ]
    },
    {
     "name": "stdout",
     "output_type": "stream",
     "text": [
      "Unfortunately, I'm afraid that's not a valid number.\n"
     ]
    }
   ],
   "source": [
    "#If the user decides to be a douchebag by entering sth like \"spam or blah blah\",the program will crash.\n",
    "#The while loop cannot prevent the crash from occuring,hence the need for a try-except loop\n",
    "\n",
    "try:\n",
    "    \n",
    "        x = float(input(\"Enter a number: \"))\n",
    "        y = float(input(\"Enter another  number: \"))\n",
    "\n",
    "        print(\"The sum is:\", x + y)\n",
    "except:\n",
    "        print(\"Unfortunately, I'm afraid that's not a valid number.\")"
   ]
  },
  {
   "cell_type": "code",
   "execution_count": null,
   "id": "2db5ff60-25a9-45c7-99a3-de0e78c9b7b8",
   "metadata": {},
   "outputs": [
    {
     "name": "stdin",
     "output_type": "stream",
     "text": [
      "Enter a number:  blah\n"
     ]
    },
    {
     "name": "stdout",
     "output_type": "stream",
     "text": [
      "Unfortunately, I'm afraid that's not a valid number.\n"
     ]
    },
    {
     "name": "stdin",
     "output_type": "stream",
     "text": [
      "Enter a number:  blah\n"
     ]
    },
    {
     "name": "stdout",
     "output_type": "stream",
     "text": [
      "Unfortunately, I'm afraid that's not a valid number.\n"
     ]
    },
    {
     "name": "stdin",
     "output_type": "stream",
     "text": [
      "Enter a number:  blah\n"
     ]
    },
    {
     "name": "stdout",
     "output_type": "stream",
     "text": [
      "Unfortunately, I'm afraid that's not a valid number.\n"
     ]
    }
   ],
   "source": [
    "#I could enhance this behaviour using \"try-except\" in conjunction with \"while\" loop:\n",
    "#This way I prevent the crash and keep asking repeatedly for a valid input until the user cease from his/her games.\n",
    "while True: \n",
    "\ttry:  \n",
    "\t\tx = float(input(\"Enter a number: \")) \n",
    "\t\ty = float(input(\"Enter another number: \")) \n",
    "\t\tbreak \n",
    "\texcept ValueError: \n",
    "\t\tprint(\"Unfortunately, I'm afraid that's not a valid number.\") \n",
    " \n",
    "print(\"The sum is:\", x + y) "
   ]
  },
  {
   "cell_type": "code",
   "execution_count": null,
   "id": "9ae257e3-881f-4a92-b105-52efe1bb3fc9",
   "metadata": {},
   "outputs": [],
   "source": [
    "# \"Raising an error\" refers to the occurrence of an exceptional condition within the try block that causes Python to generate an exception\n",
    "# when an error is raised with in the try block,python jumps unto the except block to execute the remaining code."
   ]
  }
 ],
 "metadata": {
  "kernelspec": {
   "display_name": "Python 3 (ipykernel)",
   "language": "python",
   "name": "python3"
  },
  "language_info": {
   "codemirror_mode": {
    "name": "ipython",
    "version": 3
   },
   "file_extension": ".py",
   "mimetype": "text/x-python",
   "name": "python",
   "nbconvert_exporter": "python",
   "pygments_lexer": "ipython3",
   "version": "3.12.2"
  }
 },
 "nbformat": 4,
 "nbformat_minor": 5
}
