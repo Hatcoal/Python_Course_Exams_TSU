{
 "cells": [
  {
   "cell_type": "code",
   "execution_count": 1,
   "id": "911ec71e-2b74-436e-8f97-db4f10c3c26a",
   "metadata": {},
   "outputs": [],
   "source": [
    "#Q38 Demonstrate : Download an audio mp3 and split it using python into two files"
   ]
  },
  {
   "cell_type": "code",
   "execution_count": 23,
   "id": "2d9a37ea-535e-43d7-89c2-dd0fe76c8ff6",
   "metadata": {},
   "outputs": [],
   "source": [
    "from pydub import AudioSegment\n",
    "from pydub.playback import play\n",
    "\n",
    "\n",
    "AudioSegment.converter = [\"C:\\\\Users\\\\AGV\\\\Downloads\\\\ffmpeg-n4.4.4-92-g01fc3034ee-win64-gpl-shared-4.4\"]\n",
    "    \n",
    "   "
   ]
  },
  {
   "cell_type": "code",
   "execution_count": 47,
   "id": "814cf338-b502-42e6-861b-0ea97eeb6ed3",
   "metadata": {},
   "outputs": [
    {
     "ename": "FileNotFoundError",
     "evalue": "[Errno 2] No such file or directory: 'Desktop/Essence.mp3'",
     "output_type": "error",
     "traceback": [
      "\u001b[1;31m---------------------------------------------------------------------------\u001b[0m",
      "\u001b[1;31mFileNotFoundError\u001b[0m                         Traceback (most recent call last)",
      "Cell \u001b[1;32mIn[47], line 2\u001b[0m\n\u001b[0;32m      1\u001b[0m \u001b[38;5;66;03m# Load the MP3 file\u001b[39;00m\n\u001b[1;32m----> 2\u001b[0m sound \u001b[38;5;241m=\u001b[39m \u001b[43mAudioSegment\u001b[49m\u001b[38;5;241;43m.\u001b[39;49m\u001b[43mfrom_mp3\u001b[49m\u001b[43m(\u001b[49m\u001b[38;5;124;43m\"\u001b[39;49m\u001b[38;5;124;43mDesktop/Essence.mp3\u001b[39;49m\u001b[38;5;124;43m\"\u001b[39;49m\u001b[43m)\u001b[49m\n",
      "File \u001b[1;32m~\\anaconda3\\envs\\pypov\\Lib\\site-packages\\pydub\\audio_segment.py:796\u001b[0m, in \u001b[0;36mAudioSegment.from_mp3\u001b[1;34m(cls, file, parameters)\u001b[0m\n\u001b[0;32m    794\u001b[0m \u001b[38;5;129m@classmethod\u001b[39m\n\u001b[0;32m    795\u001b[0m \u001b[38;5;28;01mdef\u001b[39;00m \u001b[38;5;21mfrom_mp3\u001b[39m(\u001b[38;5;28mcls\u001b[39m, file, parameters\u001b[38;5;241m=\u001b[39m\u001b[38;5;28;01mNone\u001b[39;00m):\n\u001b[1;32m--> 796\u001b[0m     \u001b[38;5;28;01mreturn\u001b[39;00m \u001b[38;5;28;43mcls\u001b[39;49m\u001b[38;5;241;43m.\u001b[39;49m\u001b[43mfrom_file\u001b[49m\u001b[43m(\u001b[49m\u001b[43mfile\u001b[49m\u001b[43m,\u001b[49m\u001b[43m \u001b[49m\u001b[38;5;124;43m'\u001b[39;49m\u001b[38;5;124;43mmp3\u001b[39;49m\u001b[38;5;124;43m'\u001b[39;49m\u001b[43m,\u001b[49m\u001b[43m \u001b[49m\u001b[43mparameters\u001b[49m\u001b[38;5;241;43m=\u001b[39;49m\u001b[43mparameters\u001b[49m\u001b[43m)\u001b[49m\n",
      "File \u001b[1;32m~\\anaconda3\\envs\\pypov\\Lib\\site-packages\\pydub\\audio_segment.py:651\u001b[0m, in \u001b[0;36mAudioSegment.from_file\u001b[1;34m(cls, file, format, codec, parameters, start_second, duration, **kwargs)\u001b[0m\n\u001b[0;32m    649\u001b[0m \u001b[38;5;28;01mexcept\u001b[39;00m \u001b[38;5;167;01mTypeError\u001b[39;00m:\n\u001b[0;32m    650\u001b[0m     filename \u001b[38;5;241m=\u001b[39m \u001b[38;5;28;01mNone\u001b[39;00m\n\u001b[1;32m--> 651\u001b[0m file, close_file \u001b[38;5;241m=\u001b[39m \u001b[43m_fd_or_path_or_tempfile\u001b[49m\u001b[43m(\u001b[49m\u001b[43mfile\u001b[49m\u001b[43m,\u001b[49m\u001b[43m \u001b[49m\u001b[38;5;124;43m'\u001b[39;49m\u001b[38;5;124;43mrb\u001b[39;49m\u001b[38;5;124;43m'\u001b[39;49m\u001b[43m,\u001b[49m\u001b[43m \u001b[49m\u001b[43mtempfile\u001b[49m\u001b[38;5;241;43m=\u001b[39;49m\u001b[38;5;28;43;01mFalse\u001b[39;49;00m\u001b[43m)\u001b[49m\n\u001b[0;32m    653\u001b[0m \u001b[38;5;28;01mif\u001b[39;00m \u001b[38;5;28mformat\u001b[39m:\n\u001b[0;32m    654\u001b[0m     \u001b[38;5;28mformat\u001b[39m \u001b[38;5;241m=\u001b[39m \u001b[38;5;28mformat\u001b[39m\u001b[38;5;241m.\u001b[39mlower()\n",
      "File \u001b[1;32m~\\anaconda3\\envs\\pypov\\Lib\\site-packages\\pydub\\utils.py:60\u001b[0m, in \u001b[0;36m_fd_or_path_or_tempfile\u001b[1;34m(fd, mode, tempfile)\u001b[0m\n\u001b[0;32m     57\u001b[0m     close_fd \u001b[38;5;241m=\u001b[39m \u001b[38;5;28;01mTrue\u001b[39;00m\n\u001b[0;32m     59\u001b[0m \u001b[38;5;28;01mif\u001b[39;00m \u001b[38;5;28misinstance\u001b[39m(fd, basestring):\n\u001b[1;32m---> 60\u001b[0m     fd \u001b[38;5;241m=\u001b[39m \u001b[38;5;28;43mopen\u001b[39;49m\u001b[43m(\u001b[49m\u001b[43mfd\u001b[49m\u001b[43m,\u001b[49m\u001b[43m \u001b[49m\u001b[43mmode\u001b[49m\u001b[38;5;241;43m=\u001b[39;49m\u001b[43mmode\u001b[49m\u001b[43m)\u001b[49m\n\u001b[0;32m     61\u001b[0m     close_fd \u001b[38;5;241m=\u001b[39m \u001b[38;5;28;01mTrue\u001b[39;00m\n\u001b[0;32m     63\u001b[0m \u001b[38;5;28;01mtry\u001b[39;00m:\n",
      "\u001b[1;31mFileNotFoundError\u001b[0m: [Errno 2] No such file or directory: 'Desktop/Essence.mp3'"
     ]
    }
   ],
   "source": [
    "\n",
    "\n",
    "\n",
    "# Load the MP3 file\n",
    "sound = AudioSegment.from_mp3(\"Desktop/Essence.mp3\")\n"
   ]
  },
  {
   "cell_type": "code",
   "execution_count": 15,
   "id": "f5c99c7b-86c4-4c49-853f-7a55b4c957ce",
   "metadata": {},
   "outputs": [
    {
     "ename": "FileNotFoundError",
     "evalue": "[Errno 2] No such file or directory: 'Essence.mp3'",
     "output_type": "error",
     "traceback": [
      "\u001b[1;31m---------------------------------------------------------------------------\u001b[0m",
      "\u001b[1;31mFileNotFoundError\u001b[0m                         Traceback (most recent call last)",
      "Cell \u001b[1;32mIn[15], line 3\u001b[0m\n\u001b[0;32m      1\u001b[0m \u001b[38;5;28;01mimport\u001b[39;00m \u001b[38;5;21;01mpydub\u001b[39;00m\n\u001b[0;32m      2\u001b[0m \u001b[38;5;28;01mimport\u001b[39;00m \u001b[38;5;21;01mnumpy\u001b[39;00m \u001b[38;5;28;01mas\u001b[39;00m \u001b[38;5;21;01mnp\u001b[39;00m\n\u001b[1;32m----> 3\u001b[0m sound_file \u001b[38;5;241m=\u001b[39m \u001b[43mpydub\u001b[49m\u001b[38;5;241;43m.\u001b[39;49m\u001b[43mAudioSegment\u001b[49m\u001b[38;5;241;43m.\u001b[39;49m\u001b[43mfrom_mp3\u001b[49m\u001b[43m(\u001b[49m\u001b[38;5;124;43m\"\u001b[39;49m\u001b[38;5;124;43mEssence.mp3\u001b[39;49m\u001b[38;5;124;43m\"\u001b[39;49m\u001b[43m)\u001b[49m\n\u001b[0;32m      4\u001b[0m sound_file_Value \u001b[38;5;241m=\u001b[39m np\u001b[38;5;241m.\u001b[39marray(sound_file\u001b[38;5;241m.\u001b[39mget_array_of_samples())\n\u001b[0;32m      5\u001b[0m \u001b[38;5;66;03m# milliseconds in the sound track\u001b[39;00m\n",
      "File \u001b[1;32m~\\anaconda3\\envs\\pypov\\Lib\\site-packages\\pydub\\audio_segment.py:796\u001b[0m, in \u001b[0;36mAudioSegment.from_mp3\u001b[1;34m(cls, file, parameters)\u001b[0m\n\u001b[0;32m    794\u001b[0m \u001b[38;5;129m@classmethod\u001b[39m\n\u001b[0;32m    795\u001b[0m \u001b[38;5;28;01mdef\u001b[39;00m \u001b[38;5;21mfrom_mp3\u001b[39m(\u001b[38;5;28mcls\u001b[39m, file, parameters\u001b[38;5;241m=\u001b[39m\u001b[38;5;28;01mNone\u001b[39;00m):\n\u001b[1;32m--> 796\u001b[0m     \u001b[38;5;28;01mreturn\u001b[39;00m \u001b[38;5;28;43mcls\u001b[39;49m\u001b[38;5;241;43m.\u001b[39;49m\u001b[43mfrom_file\u001b[49m\u001b[43m(\u001b[49m\u001b[43mfile\u001b[49m\u001b[43m,\u001b[49m\u001b[43m \u001b[49m\u001b[38;5;124;43m'\u001b[39;49m\u001b[38;5;124;43mmp3\u001b[39;49m\u001b[38;5;124;43m'\u001b[39;49m\u001b[43m,\u001b[49m\u001b[43m \u001b[49m\u001b[43mparameters\u001b[49m\u001b[38;5;241;43m=\u001b[39;49m\u001b[43mparameters\u001b[49m\u001b[43m)\u001b[49m\n",
      "File \u001b[1;32m~\\anaconda3\\envs\\pypov\\Lib\\site-packages\\pydub\\audio_segment.py:651\u001b[0m, in \u001b[0;36mAudioSegment.from_file\u001b[1;34m(cls, file, format, codec, parameters, start_second, duration, **kwargs)\u001b[0m\n\u001b[0;32m    649\u001b[0m \u001b[38;5;28;01mexcept\u001b[39;00m \u001b[38;5;167;01mTypeError\u001b[39;00m:\n\u001b[0;32m    650\u001b[0m     filename \u001b[38;5;241m=\u001b[39m \u001b[38;5;28;01mNone\u001b[39;00m\n\u001b[1;32m--> 651\u001b[0m file, close_file \u001b[38;5;241m=\u001b[39m \u001b[43m_fd_or_path_or_tempfile\u001b[49m\u001b[43m(\u001b[49m\u001b[43mfile\u001b[49m\u001b[43m,\u001b[49m\u001b[43m \u001b[49m\u001b[38;5;124;43m'\u001b[39;49m\u001b[38;5;124;43mrb\u001b[39;49m\u001b[38;5;124;43m'\u001b[39;49m\u001b[43m,\u001b[49m\u001b[43m \u001b[49m\u001b[43mtempfile\u001b[49m\u001b[38;5;241;43m=\u001b[39;49m\u001b[38;5;28;43;01mFalse\u001b[39;49;00m\u001b[43m)\u001b[49m\n\u001b[0;32m    653\u001b[0m \u001b[38;5;28;01mif\u001b[39;00m \u001b[38;5;28mformat\u001b[39m:\n\u001b[0;32m    654\u001b[0m     \u001b[38;5;28mformat\u001b[39m \u001b[38;5;241m=\u001b[39m \u001b[38;5;28mformat\u001b[39m\u001b[38;5;241m.\u001b[39mlower()\n",
      "File \u001b[1;32m~\\anaconda3\\envs\\pypov\\Lib\\site-packages\\pydub\\utils.py:60\u001b[0m, in \u001b[0;36m_fd_or_path_or_tempfile\u001b[1;34m(fd, mode, tempfile)\u001b[0m\n\u001b[0;32m     57\u001b[0m     close_fd \u001b[38;5;241m=\u001b[39m \u001b[38;5;28;01mTrue\u001b[39;00m\n\u001b[0;32m     59\u001b[0m \u001b[38;5;28;01mif\u001b[39;00m \u001b[38;5;28misinstance\u001b[39m(fd, basestring):\n\u001b[1;32m---> 60\u001b[0m     fd \u001b[38;5;241m=\u001b[39m \u001b[38;5;28;43mopen\u001b[39;49m\u001b[43m(\u001b[49m\u001b[43mfd\u001b[49m\u001b[43m,\u001b[49m\u001b[43m \u001b[49m\u001b[43mmode\u001b[49m\u001b[38;5;241;43m=\u001b[39;49m\u001b[43mmode\u001b[49m\u001b[43m)\u001b[49m\n\u001b[0;32m     61\u001b[0m     close_fd \u001b[38;5;241m=\u001b[39m \u001b[38;5;28;01mTrue\u001b[39;00m\n\u001b[0;32m     63\u001b[0m \u001b[38;5;28;01mtry\u001b[39;00m:\n",
      "\u001b[1;31mFileNotFoundError\u001b[0m: [Errno 2] No such file or directory: 'Essence.mp3'"
     ]
    }
   ],
   "source": [
    "import pydub\n",
    "import numpy as np\n",
    "sound_file = pydub.AudioSegment.from_mp3(\"Essence.mp3\")\n",
    "sound_file_Value = np.array(sound_file.get_array_of_samples())\n",
    "# milliseconds in the sound track\n",
    "ranges = [(30000,40000),(50000,60000),(80000,90000),(100000,110000),(150000,180000)] \n",
    "\n",
    "for x, y in ranges:\n",
    "    new_file=sound_file_Value[x : y]\n",
    "    song = pydub.AudioSegment(new_file.tobytes(), frame_rate=sound_file.frame_rate,sample_width=sound_file.sample_width,channels=1)\n",
    "    song.export(str(x) + \"-\" + str(y) +\".mp3\", format=\"mp3\")"
   ]
  },
  {
   "cell_type": "code",
   "execution_count": 20,
   "id": "f1ce561d-23e2-40f2-86d3-fafca4e5ab32",
   "metadata": {},
   "outputs": [
    {
     "ename": "SyntaxError",
     "evalue": "(unicode error) 'unicodeescape' codec can't decode bytes in position 3-4: truncated \\UXXXXXXXX escape (1957828798.py, line 9)",
     "output_type": "error",
     "traceback": [
      "\u001b[1;36m  Cell \u001b[1;32mIn[20], line 9\u001b[1;36m\u001b[0m\n\u001b[1;33m    ffmpeg_path = \" C:\\Users\\AGV\\Downloads\\ffmpeg-n4.4.4-92-g01fc3034ee-win64-gpl-shared-4.4\\ffmpeg-n4.4.4-92-g01fc3034ee-win64-gpl-shared-4.4\"  # Replace this with the actual path to ffmpeg\u001b[0m\n\u001b[1;37m                  ^\u001b[0m\n\u001b[1;31mSyntaxError\u001b[0m\u001b[1;31m:\u001b[0m (unicode error) 'unicodeescape' codec can't decode bytes in position 3-4: truncated \\UXXXXXXXX escape\n"
     ]
    }
   ],
   "source": [
    "from pydub import AudioSegment\n",
    "import os\n",
    "\n",
    "# Specify the path to the ffmpeg executable\n",
    "ffmpeg_path = \"from pydub import AudioSegment\"\n",
    "import os\n",
    "\n",
    "# Specify the path to the ffmpeg executable\n",
    "ffmpeg_path = \" C:\\Users\\AGV\\Downloads\\ffmpeg-n4.4.4-92-g01fc3034ee-win64-gpl-shared-4.4\\ffmpeg-n4.4.4-92-g01fc3034ee-win64-gpl-shared-4.4\"  # Replace this with the actual path to ffmpeg\n",
    "\n",
    "# Set the path to ffmpeg\n",
    "AudioSegment.ffmpeg = ffmpeg_path\n",
    "\n",
    "def split_mp3( Essence.mp3, output_file1, output_file2):\n",
    "    # Load the MP3 file\n",
    "    audio = AudioSegment.from_mp3(Essence.mp3)\n",
    "    \n",
    "    # Calculate the duration of the audio\n",
    "    duration = len(audio)\n",
    "    \n",
    "    # Calculate the split point (half of the duration)\n",
    "    split_point = duration // 2\n",
    "    \n",
    "    # Split the audio at the calculated split point\n",
    "    part1 = audio[:split_point]\n",
    "    part2 = audio[split_point:]\n",
    "    \n",
    "    # Export the split parts as separate MP3 files\n",
    "    part1.export(output_file1, format=\"mp3\")\n",
    "    part2.export(output_file2, format=\"mp3\")\n",
    "\n",
    "if __name__ == \"__main__\":\n",
    "    input_file = \"Essence.mp3.mp3\"        # Specify your input MP3 file\n",
    "    output_file1 = \"output1.mp3\"    # Specify the name for the first split part\n",
    "    output_file2 = \"output2.mp3\"    # Specify the name for the second split part\n",
    "\n",
    "    split_mp3(input_file, output_file1, output_file2) # Replace this with the actual path to ffmpeg\n",
    "\n",
    "# Set the path to ffmpeg\n",
    "AudioSegment.ffmpeg = ffmpeg_path\n",
    "\n",
    "def split_mp3(input_file, output_file1, output_file2):\n",
    "    # Load the MP3 file\n",
    "    audio = AudioSegment.from_mp3(input_file)\n",
    "    \n",
    "    # Calculate the duration of the audio\n",
    "    duration = len(audio)\n",
    "    \n",
    "    # Calculate the split point (half of the duration)\n",
    "    split_point = duration // 2\n",
    "    \n",
    "    # Split the audio at the calculated split point\n",
    "    part1 = audio[:split_point]\n",
    "    part2 = audio[split_point:]\n",
    "    \n",
    "    # Export the split parts as separate MP3 files\n",
    "    part1.export(output_file1, format=\"mp3\")\n",
    "    part2.export(output_file2, format=\"mp3\")\n",
    "\n",
    "if __name__ == \"__main__\":\n",
    "    input_file = \"input.mp3\"        # Specify your input MP3 file\n",
    "    output_file1 = \"output1.mp3\"    # Specify the name for the first split part\n",
    "    output_file2 = \"output2.mp3\"    # Specify the name for the second split part\n",
    "\n",
    "    split_mp3(input_file, output_file1, output_file2)"
   ]
  },
  {
   "cell_type": "code",
   "execution_count": 32,
   "id": "21e656f1-329d-4f3b-a23b-af55ecc02491",
   "metadata": {},
   "outputs": [],
   "source": [
    "import librosa\n",
    "import soundfile as sf\n",
    "from pydub import AudioSegment\n",
    "\n"
   ]
  },
  {
   "cell_type": "code",
   "execution_count": 33,
   "id": "ac5f02ea-d7d6-49db-bd23-12dedc987527",
   "metadata": {},
   "outputs": [],
   "source": [
    "def split_mp3(input_file, output_file1, output_file2):\n",
    "    # Load the MP3 file\n",
    "    y, sr = librosa.load(Essence.mp3)\n",
    "    \n",
    "   "
   ]
  },
  {
   "cell_type": "code",
   "execution_count": 46,
   "id": "6fd2cf72-a77a-4fab-bba0-b9a6a55a90ac",
   "metadata": {},
   "outputs": [
    {
     "ename": "NameError",
     "evalue": "name 'y' is not defined",
     "output_type": "error",
     "traceback": [
      "\u001b[1;31m---------------------------------------------------------------------------\u001b[0m",
      "\u001b[1;31mNameError\u001b[0m                                 Traceback (most recent call last)",
      "Cell \u001b[1;32mIn[46], line 2\u001b[0m\n\u001b[0;32m      1\u001b[0m \u001b[38;5;66;03m# Calculate the duration of the audio\u001b[39;00m\n\u001b[1;32m----> 2\u001b[0m duration \u001b[38;5;241m=\u001b[39m librosa\u001b[38;5;241m.\u001b[39mget_duration( y\u001b[38;5;241m=\u001b[39m\u001b[43my\u001b[49m, sr\u001b[38;5;241m=\u001b[39msr)\n\u001b[0;32m      4\u001b[0m \u001b[38;5;66;03m# Calculate the split point (half of the duration)\u001b[39;00m\n\u001b[0;32m      5\u001b[0m split_point \u001b[38;5;241m=\u001b[39m duration \u001b[38;5;241m/\u001b[39m \u001b[38;5;241m2\u001b[39m\n",
      "\u001b[1;31mNameError\u001b[0m: name 'y' is not defined"
     ]
    }
   ],
   "source": [
    "    # Calculate the duration of the audio\n",
    "    duration = librosa.get_duration( y=y, sr=sr)\n",
    "    \n",
    "    # Calculate the split point (half of the duration)\n",
    "    split_point = duration / 2\n",
    "    \n",
    "    # Split the audio at the calculated split point\n",
    "    y_part1 = y[:int(split_point * sr)]\n",
    "    y_part2 = y[int(split_point * sr):]\n",
    "    \n",
    "    # Save the split parts as separate WAV files\n",
    "    sf.write(output_file1, y_part1, sr)\n",
    "    sf.write(output_file2, y_part2, sr)\n",
    "\n",
    "def wav_to_mp3(input_file, output_file):\n",
    "    # Load the WAV file\n",
    "  audio = AudioSegment.from_wav(input_file)\n",
    "    \n",
    "    # Export as MP3\n",
    "    audio.export(output_file, format=\"mp3\")\n",
    "\n",
    "if __name__ == \"__main__\":\n",
    "   input_file = \"input.mp3\"        # Specify your input MP3 file\n",
    "    output_file1 = \"output1.wav\"    # Specify the name for the first split part (WAV)\n",
    "    output_file2 = \"output2.wav\"    # Specify the name for the second split part (WAV)\n",
    "    output_file1_mp3 = \"output1.mp3\"    # Specify the name for the first split part (MP3)\n",
    "    output_file2_mp3 = \"output2.mp3\"    # Specify the name for the second split part (MP3)\n",
    "\n",
    "    split_mp3(input_file, output_file1, output_file2)\n",
    "    wav_to_mp3(output_file1, output_file1_mp3)\n",
    "    wav_to_mp3(output_file2, output_file2_mp3)"
   ]
  },
  {
   "cell_type": "code",
   "execution_count": null,
   "id": "f1660c5c-70c2-4788-a2a6-ca2945b0e66e",
   "metadata": {},
   "outputs": [],
   "source": []
  },
  {
   "cell_type": "code",
   "execution_count": null,
   "id": "54c39b79-0c19-4ffd-b6e5-a09ed8f7bf42",
   "metadata": {},
   "outputs": [],
   "source": []
  }
 ],
 "metadata": {
  "kernelspec": {
   "display_name": "Python 3 (ipykernel)",
   "language": "python",
   "name": "python3"
  },
  "language_info": {
   "codemirror_mode": {
    "name": "ipython",
    "version": 3
   },
   "file_extension": ".py",
   "mimetype": "text/x-python",
   "name": "python",
   "nbconvert_exporter": "python",
   "pygments_lexer": "ipython3",
   "version": "3.12.2"
  }
 },
 "nbformat": 4,
 "nbformat_minor": 5
}
