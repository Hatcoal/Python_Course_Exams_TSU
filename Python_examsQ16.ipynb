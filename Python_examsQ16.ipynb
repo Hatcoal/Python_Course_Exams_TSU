{
 "cells": [
  {
   "cell_type": "code",
   "execution_count": 30,
   "id": "b6f9874d-052d-4624-93e5-48227cba3fc6",
   "metadata": {},
   "outputs": [],
   "source": [
    "#Q16\n",
    "#DNA is text,and human language is also a text.How is parsing of DNA different from parsing of human language?\n",
    "#Which Python module will you use to parse DNA.Demonstrate."
   ]
  },
  {
   "cell_type": "code",
   "execution_count": 31,
   "id": "f7ae46ea-eeb9-4a24-aac9-0ea27783f8d5",
   "metadata": {},
   "outputs": [],
   "source": [
    "#Data structure is different- DNA consists of four nucleotides while HL text is composed of words,phrases and grammatical syntax\n",
    "#Parsing objectives- With Dna the goal is to identify specific patterns,motifs,genes or variations in the sequence\n",
    "#with HL text,the goal is to extract meaning,structure and sentiment,with tasks like sentiment analysis,part-of-speech parsing,machine translation"
   ]
  },
  {
   "cell_type": "code",
   "execution_count": 32,
   "id": "9e65f1c0-7d37-4043-9c06-8b6c509dcfe7",
   "metadata": {},
   "outputs": [],
   "source": [
    "# Biopython is a python module for use in parsing DNA.\n",
    "from Bio import SeqIO\n"
   ]
  },
  {
   "cell_type": "code",
   "execution_count": 80,
   "id": "50fbc8b7-ece7-4160-80de-12404deb5715",
   "metadata": {},
   "outputs": [
    {
     "name": "stdout",
     "output_type": "stream",
     "text": [
      "TGCGCTCACTGGGCCAGAACCCTACTGAGGCTGAGCTGCAGGACATGATCAATGAGGTGGATGCTGATGGTGAGCCCCGCCTGTCCCTGCGTGTCCGCTTGTTCCTCTGTCCCCCTGCTCACTGTCCCTTCGTCCCACCCCAGGCAACGGCACCATCGACTTCCCCGAGTTCCTCACCATGATGGCGAGGAAGATGAAGGATACGGATAGTGAGGAGGAGATCCGTGAGGCTTTCCGTGTCTTTGACAAGGTGGGTCAGGGACAGGGATGGGGACAGGGGAATGGGCGAGGCAACGGTGTCATCACCGTGTTCCCAACCCCAGGATGGGAATGGGTACATCAGCGCAGCGGAGCTGCGGCACGTGATGACCAACCTGGGGGAGAAGCTGACGGATGAGGAAGTGGATGAGATGATCCGGAGGCTGACATCGACGGCGATGGGCAGGTCAACTATGAGGGTGAGTGCCACTGTCACCCCAGGGGTCCCCACTGTCACTCGGTGTCTCCTCTGTCAGCCACAGGTCCTTGCTGGCACCCAATGGGACCCTGCTGGCATCCACCCACGGGGCTTCTCATTCCCTAGTGCTGCACTGCGTTCCCCATCATCTTTAGCTTGGGGTACCACTGTGTCCCCTGTCACCCCTGGCAAGAACCTTGTGTTGGGGACAGGGACAGAAATGGGCATGGGGACAATATCCACGTCTCTTATCACCCCTCTTGCCATGAACATGGGATCCCACTACATTCCCTCATCCCCAAGGGGCCAGACGCATCGTGTCGCCTCTTTCTGGGGACCCCACTGAGTCCCCTGTCCCTGCTCTGTCCCCCCCATCCCCACGGGCTCTGCAGTATCCCCCTGTCCCCATTCCTGCCCCCAGTGCGTTCCCTGTCCCTGTCAAGTCCCCGTCCATGTTCTGTCCCCATTCTATCTTCATCCCCATCGTGTCCCTGTCCCCACTGACCCTTTCTCTCTCCTGGCAGAGTTTGTGCAGATGATGACGGCGAAGTGAGAGGGCATGAGGCCACC\n",
      "Sequence\n",
      "1027\n"
     ]
    }
   ],
   "source": [
    "#parsing a DNA fasta file using Biopython\n",
    "from Bio import SeqIO\n",
    "\n",
    "sequences = [] # Setup an empty list\n",
    "with open(\"ls_orchid.fasta\", \"w\") as f:\n",
    "    f.write(\">Sequence\\n\")\n",
    "    f.write(dna_sequence)\n",
    "for seq_record in SeqIO.parse(\"ls_orchid.fasta\", \"fasta\"):\n",
    "    # Add this record to our list\n",
    "    sequences.append(str(seq_record.seq))\n",
    "    # print sequence\n",
    "    print(seq_record.seq)\n",
    "    # print sequence identifier\n",
    "    print(seq_record.id)\n",
    "    # print length of the sequence\n",
    "    print(len(seq_record))"
   ]
  },
  {
   "cell_type": "code",
   "execution_count": 82,
   "id": "8afccf81-1548-4a05-a5ca-1d4ce5525154",
   "metadata": {},
   "outputs": [
    {
     "data": {
      "text/plain": [
       "['TGCGCTCACTGGGCCAGAACCCTACTGAGGCTGAGCTGCAGGACATGATCAATGAGGTGGATGCTGATGGTGAGCCCCGCCTGTCCCTGCGTGTCCGCTTGTTCCTCTGTCCCCCTGCTCACTGTCCCTTCGTCCCACCCCAGGCAACGGCACCATCGACTTCCCCGAGTTCCTCACCATGATGGCGAGGAAGATGAAGGATACGGATAGTGAGGAGGAGATCCGTGAGGCTTTCCGTGTCTTTGACAAGGTGGGTCAGGGACAGGGATGGGGACAGGGGAATGGGCGAGGCAACGGTGTCATCACCGTGTTCCCAACCCCAGGATGGGAATGGGTACATCAGCGCAGCGGAGCTGCGGCACGTGATGACCAACCTGGGGGAGAAGCTGACGGATGAGGAAGTGGATGAGATGATCCGGAGGCTGACATCGACGGCGATGGGCAGGTCAACTATGAGGGTGAGTGCCACTGTCACCCCAGGGGTCCCCACTGTCACTCGGTGTCTCCTCTGTCAGCCACAGGTCCTTGCTGGCACCCAATGGGACCCTGCTGGCATCCACCCACGGGGCTTCTCATTCCCTAGTGCTGCACTGCGTTCCCCATCATCTTTAGCTTGGGGTACCACTGTGTCCCCTGTCACCCCTGGCAAGAACCTTGTGTTGGGGACAGGGACAGAAATGGGCATGGGGACAATATCCACGTCTCTTATCACCCCTCTTGCCATGAACATGGGATCCCACTACATTCCCTCATCCCCAAGGGGCCAGACGCATCGTGTCGCCTCTTTCTGGGGACCCCACTGAGTCCCCTGTCCCTGCTCTGTCCCCCCCATCCCCACGGGCTCTGCAGTATCCCCCTGTCCCCATTCCTGCCCCCAGTGCGTTCCCTGTCCCTGTCAAGTCCCCGTCCATGTTCTGTCCCCATTCTATCTTCATCCCCATCGTGTCCCTGTCCCCACTGACCCTTTCTCTCTCCTGGCAGAGTTTGTGCAGATGATGACGGCGAAGTGAGAGGGCATGAGGCCACC']"
      ]
     },
     "execution_count": 82,
     "metadata": {},
     "output_type": "execute_result"
    }
   ],
   "source": [
    "sequences"
   ]
  },
  {
   "cell_type": "code",
   "execution_count": null,
   "id": "1d6fcb7f-331c-4e5c-bf8e-1c3d29d3eacb",
   "metadata": {},
   "outputs": [],
   "source": [
    "#References\n",
    "#https://github.com/lanadominkovic/rosalind/blob/main/reading_sequence_files/fasta.ipynb\n",
    "#https://www.youtube.com/watch?v=yj3qld0J5EY"
   ]
  }
 ],
 "metadata": {
  "kernelspec": {
   "display_name": "Python 3 (ipykernel)",
   "language": "python",
   "name": "python3"
  },
  "language_info": {
   "codemirror_mode": {
    "name": "ipython",
    "version": 3
   },
   "file_extension": ".py",
   "mimetype": "text/x-python",
   "name": "python",
   "nbconvert_exporter": "python",
   "pygments_lexer": "ipython3",
   "version": "3.12.2"
  }
 },
 "nbformat": 4,
 "nbformat_minor": 5
}
