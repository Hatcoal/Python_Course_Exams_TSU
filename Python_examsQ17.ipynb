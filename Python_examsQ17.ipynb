{
 "cells": [
  {
   "cell_type": "code",
   "execution_count": 1,
   "id": "7077a148-7bbb-49f7-b227-187721f267c3",
   "metadata": {},
   "outputs": [],
   "source": [
    "#Q17\n",
    "#What are classes? What is inheritance? What are methods? How can we encode biological entities as classes?\n",
    "#How can you distinguish a class of bacteria from a class of humans?"
   ]
  },
  {
   "cell_type": "code",
   "execution_count": 7,
   "id": "3ca9b33b-e0c8-464e-af25-9fe61d4e0cf7",
   "metadata": {},
   "outputs": [],
   "source": [
    "#In OOP,classes are blueprints for creating objects,it defines the attributes and methods(behaviours) that the object will have.\n",
    "#Inheritance occurs when a class uses code(attributes and methods) constructed within another class.Often used to reduce redundancy.\n",
    "#Methods are functions defined within a class that operate on objects of that class.They manipulate object attributes.\n",
    "\n",
    "#Encoding biological Entities as classes.\n",
    "\n",
    "class Fish:\n",
    "    def __init__(self, first_name, last_name=\"Fish\",\n",
    "                 skeleton=\"bone\", eyelids=False):\n",
    "        self.first_name = first_name\n",
    "        self.last_name = last_name\n",
    "        self.skeleton = skeleton\n",
    "        self.eyelids = eyelids\n",
    "\n",
    "    def swim(self):\n",
    "        print(\"The fish is swimming.\")\n",
    "\n",
    "    def swim_backwards(self):\n",
    "        print(\"The fish can swim backwards.\")"
   ]
  },
  {
   "cell_type": "code",
   "execution_count": 8,
   "id": "044b7059-8448-4029-9d8b-435f1b4df1bf",
   "metadata": {},
   "outputs": [
    {
     "name": "stdout",
     "output_type": "stream",
     "text": [
      "Terry Fish\n",
      "bone\n",
      "False\n",
      "The fish is swimming.\n",
      "The fish can swim backwards.\n"
     ]
    }
   ],
   "source": [
    "#inheriting methods for a trout fish\n",
    "class Trout(Fish):\n",
    "    pass\n",
    "\n",
    "terry = Trout(\"Terry\")\n",
    "print(terry.first_name + \" \" + terry.last_name)\n",
    "print(terry.skeleton)\n",
    "print(terry.eyelids)\n",
    "terry.swim()\n",
    "terry.swim_backwards()"
   ]
  },
  {
   "cell_type": "code",
   "execution_count": 9,
   "id": "8f5380c4-5b3a-4742-8ec4-8fa16d6911e9",
   "metadata": {},
   "outputs": [
    {
     "name": "stdout",
     "output_type": "stream",
     "text": [
      "Casey Fish\n",
      "The fish is swimming.\n",
      "The clownfish is coexisting with sea anemone.\n"
     ]
    }
   ],
   "source": [
    "#inheriting methods and also declaring its own object methods\n",
    "\n",
    "class Clownfish(Fish):\n",
    "\n",
    "    def live_with_anemone(self):\n",
    "        print(\"The clownfish is coexisting with sea anemone.\")\n",
    "\n",
    "casey = Clownfish(\"Casey\")\n",
    "print(casey.first_name + \" \" + casey.last_name)\n",
    "casey.swim()\n",
    "casey.live_with_anemone()"
   ]
  },
  {
   "cell_type": "code",
   "execution_count": 10,
   "id": "87d8e8c9-d955-44d1-9301-d83cc133471a",
   "metadata": {},
   "outputs": [
    {
     "ename": "AttributeError",
     "evalue": "'Trout' object has no attribute 'live_with_anemone'",
     "output_type": "error",
     "traceback": [
      "\u001b[1;31m---------------------------------------------------------------------------\u001b[0m",
      "\u001b[1;31mAttributeError\u001b[0m                            Traceback (most recent call last)",
      "Cell \u001b[1;32mIn[10], line 4\u001b[0m\n\u001b[0;32m      1\u001b[0m \u001b[38;5;66;03m#If I call the live_with_anemone() method on the trout fish class,I'll receive an error\u001b[39;00m\n\u001b[0;32m      2\u001b[0m \u001b[38;5;66;03m#The method belongs only to the clownfish class and not the fish parent class.\u001b[39;00m\n\u001b[1;32m----> 4\u001b[0m \u001b[43mterry\u001b[49m\u001b[38;5;241;43m.\u001b[39;49m\u001b[43mlive_with_anemone\u001b[49m()\n",
      "\u001b[1;31mAttributeError\u001b[0m: 'Trout' object has no attribute 'live_with_anemone'"
     ]
    }
   ],
   "source": [
    "#If I call the live_with_anemone() method on the trout fish class,I'll receive an error\n",
    "#The method belongs only to the clownfish class and not the fish parent class.\n",
    "\n",
    "terry.live_with_anemone()"
   ]
  },
  {
   "cell_type": "code",
   "execution_count": 28,
   "id": "462c3a30-8bb9-42bc-a54a-472848f4896c",
   "metadata": {},
   "outputs": [
    {
     "name": "stdout",
     "output_type": "stream",
     "text": [
      "Bacteria: Ecoli Type: Bacillus Length: 1.5um Strain\n",
      "Human: Sabalenka Specie: sapien Age: 25 Gender: Female Occupation: Tennis player\n"
     ]
    }
   ],
   "source": [
    "\n",
    "# distinguishing a bacteria class from a human class\n",
    "\n",
    "#defined a class for all living organisms\n",
    "class Organism:\n",
    "    def __init__(self, name):\n",
    "        self.name = name\n",
    "\n",
    "    def eat(self):\n",
    "        pass\n",
    "\n",
    "\n",
    "\n",
    "\n",
    "\n",
    "#defined a subclass for bacteria\n",
    "class Bacteria(Organism):\n",
    "    def __init__(self, name, type, length, strain):\n",
    "        super().__init__(name)\n",
    "        self.type = type\n",
    "        self.length = length\n",
    "        self.strain = strain\n",
    "\n",
    "    def reproduce(self):\n",
    "        pass  \n",
    "        \n",
    "#defined subclass for humans\n",
    "class Human(Organism):\n",
    "    def __init__(self, name, specie, age, gender,occupation):\n",
    "        super().__init__(name)\n",
    "        self.specie = specie\n",
    "        self.age = age\n",
    "        self.gender = gender\n",
    "        self.occupation = occupation\n",
    "\n",
    "    def speak(self):\n",
    "        pass \n",
    "\n",
    "    def reproduce(self):\n",
    "        pass\n",
    "\n",
    "bacteria1 = Bacteria( \"Ecoli\", \"Bacillus\",\"1.5um\", \"pathogenic\")\n",
    "human1 = Human(\"Sabalenka\", \"sapien\", \"25\", \"Female\", \"tennis player \")\n",
    "\n",
    "print(\"Bacteria:\", bacteria1.name, \"Type:\", bacteria1.type, \"Length:\", bacteria1.length, \"Strain\")\n",
    "bacteria1.reproduce()\n",
    "\n",
    "print(\"Human:\", human1.name,\"Specie:\", human1.specie, \"Age:\", human1.age, \"Gender:\", human1.gender, \"Occupation:\", \"Tennis player\")\n",
    "human1.eat()\n",
    "human1.speak()"
   ]
  },
  {
   "cell_type": "code",
   "execution_count": null,
   "id": "9c5e0f4f-1950-48fa-b5a9-fb801f08163f",
   "metadata": {},
   "outputs": [],
   "source": []
  }
 ],
 "metadata": {
  "kernelspec": {
   "display_name": "Python 3 (ipykernel)",
   "language": "python",
   "name": "python3"
  },
  "language_info": {
   "codemirror_mode": {
    "name": "ipython",
    "version": 3
   },
   "file_extension": ".py",
   "mimetype": "text/x-python",
   "name": "python",
   "nbconvert_exporter": "python",
   "pygments_lexer": "ipython3",
   "version": "3.12.2"
  }
 },
 "nbformat": 4,
 "nbformat_minor": 5
}
