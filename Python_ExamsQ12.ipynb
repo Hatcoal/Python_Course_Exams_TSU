{
 "cells": [
  {
   "cell_type": "code",
   "execution_count": 2,
   "id": "507a4928-b22b-4c4b-9726-8f89eea13f99",
   "metadata": {},
   "outputs": [],
   "source": [
    " #Q12 What is the difference between control,transfer and iterative statements in python?\n",
    "\n",
    "#In Python, control, transfer, and iterative statements are fundamental constructs used for controlling the flow of execution in a program\n",
    "#flow control is the order in which statements or blocks of code are executed at runtime based on a condition.Ex \"if\" \"else\" \"elif\" "
   ]
  },
  {
   "cell_type": "code",
   "execution_count": 3,
   "id": "a36fc4bb-4d6f-4356-a5aa-1e61ce28ab87",
   "metadata": {},
   "outputs": [
    {
     "name": "stdout",
     "output_type": "stream",
     "text": [
      "7 is odd. \n",
      "12 is even.\n"
     ]
    }
   ],
   "source": [
    "#defining a code that checks if a given number is even or odd using a typical control statement\n",
    "\n",
    "def check_even_odd(num):\n",
    "    if num % 2 == 0:\n",
    "        print(f\"{num} is even.\")\n",
    "    else:\n",
    "        print(f\"{num} is odd. \")\n",
    "\n",
    "check_even_odd(7)\n",
    "check_even_odd(12)\n"
   ]
  },
  {
   "cell_type": "code",
   "execution_count": 4,
   "id": "2f66ffae-65cb-4eb3-b93b-c407cdd58883",
   "metadata": {},
   "outputs": [
    {
     "name": "stdout",
     "output_type": "stream",
     "text": [
      "Sum of even numbers from 1 to 10: 30\n"
     ]
    }
   ],
   "source": [
    "#Transfer statements are used to transfer control from one part of the program to another. In Python, the primary transfer statements are 'break', 'continue', and 'return'\n",
    "#A transfer that checks the sum of even numbers from 1 to 10 skipping the odd numbers\n",
    "\n",
    " #Using continue to skip odd numbers\n",
    "sum_even = 0\n",
    "for i in range(1, 11):\n",
    "    if i % 2 != 0:\n",
    "        continue\n",
    "    sum_even += i\n",
    "\n",
    "print(\"Sum of even numbers from 1 to 10:\", sum_even)  # Output: Sum of even numbers from 1 to 10: 30\n"
   ]
  },
  {
   "cell_type": "code",
   "execution_count": 1,
   "id": "5816ec7a-9137-4964-8705-927c795dd762",
   "metadata": {},
   "outputs": [
    {
     "name": "stdout",
     "output_type": "stream",
     "text": [
      "1\n",
      "2\n",
      "4\n",
      "5\n",
      "7\n"
     ]
    }
   ],
   "source": [
    "#Iterative statements are used to repeat a block of code multiple times. In Python, the primary iterative statements are \"for'\" and \"while\".\n",
    "#using while loop to iterate over a list of numbers\n",
    "\n",
    "numbers = [1, 2, 4, 5, 7]\n",
    "size = len(numbers)\n",
    "i = 0\n",
    "while i < size:\n",
    "    print(numbers[i])\n",
    "    i = i + 1"
   ]
  },
  {
   "cell_type": "code",
   "execution_count": null,
   "id": "12bbacd6-3330-4dbc-b7f7-1b8270517b49",
   "metadata": {},
   "outputs": [],
   "source": []
  }
 ],
 "metadata": {
  "kernelspec": {
   "display_name": "Python 3 (ipykernel)",
   "language": "python",
   "name": "python3"
  },
  "language_info": {
   "codemirror_mode": {
    "name": "ipython",
    "version": 3
   },
   "file_extension": ".py",
   "mimetype": "text/x-python",
   "name": "python",
   "nbconvert_exporter": "python",
   "pygments_lexer": "ipython3",
   "version": "3.12.2"
  }
 },
 "nbformat": 4,
 "nbformat_minor": 5
}
