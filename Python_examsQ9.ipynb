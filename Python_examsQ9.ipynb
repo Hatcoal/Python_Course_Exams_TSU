{
 "cells": [
  {
   "cell_type": "code",
   "execution_count": 1,
   "id": "b222380d-45bf-4bb4-880f-05564530d981",
   "metadata": {},
   "outputs": [],
   "source": [
    "#Q9 What are datatypes?. create three datatypes."
   ]
  },
  {
   "cell_type": "code",
   "execution_count": 2,
   "id": "966a6e96-7263-419a-99bc-8fae83c89671",
   "metadata": {},
   "outputs": [],
   "source": [
    "#In python, datatypes are used to specify the type of data that can be  stored inside  a variable\n",
    "#Datatype examples"
   ]
  },
  {
   "cell_type": "code",
   "execution_count": 12,
   "id": "76a01191-2285-4eb3-9377-a89b401c0779",
   "metadata": {},
   "outputs": [
    {
     "name": "stdout",
     "output_type": "stream",
     "text": [
      "Swift\n",
      "Python\n",
      "perl\n",
      "R\n",
      "Scala\n",
      "Rust\n",
      "MATLAB\n",
      "<class 'list'>\n"
     ]
    }
   ],
   "source": [
    "#python List datatype\n",
    "\n",
    "languages = [\"Swift\", \"Java\", \"Python\", \"perl\", \"R\", \"Scala\", \"Rust\",\"MATLAB\",]\n",
    "\n",
    "# accessing element at index 0\n",
    "print(languages[0])  \n",
    "\n",
    "# accessing  element at index 2\n",
    "print(languages[2])   \n",
    "\n",
    "#accessing element at index at index 3\n",
    "print(languages[3])\n",
    "\n",
    "#accessing element at index at index 4\n",
    "print(languages[4])\n",
    "\n",
    "# accessing  element at index 5\n",
    "print(languages[5])\n",
    "\n",
    "# accessing  element at index 6\n",
    "print(languages[6])\n",
    "\n",
    "# accessing  element at index 7\n",
    "print(languages[7])\n",
    "\n",
    "print(type(languages))\n"
   ]
  },
  {
   "cell_type": "code",
   "execution_count": 13,
   "id": "e6d58694-f37d-4814-99c9-7f01e18f1e07",
   "metadata": {},
   "outputs": [
    {
     "name": "stdout",
     "output_type": "stream",
     "text": [
      "{'Nepal': 'Kathmandu', 'Italy': 'Rome', 'England': 'London', 'Ethiopia': 'Addis Ababa'}\n"
     ]
    }
   ],
   "source": [
    "#Python dictionary datatype is an ordered collection of items. It stores elements in key/value pairs.\n",
    "\n",
    "# creating  a dictionary named capital_city\n",
    "capital_city = {'Nepal': 'Kathmandu', 'Italy': 'Rome', 'England': 'London', 'Ethiopia': 'Addis Ababa' }\n",
    "\n",
    "print(capital_city)\n"
   ]
  },
  {
   "cell_type": "code",
   "execution_count": 14,
   "id": "ff5e570c-da93-430e-9665-a01352d6f97e",
   "metadata": {},
   "outputs": [
    {
     "name": "stdout",
     "output_type": "stream",
     "text": [
      "Kathmandu\n"
     ]
    }
   ],
   "source": [
    "#keys are used to retrieve respective values and not the other way around.\n",
    "\n",
    "print(capital_city['Nepal'])  # prints Kathmandu"
   ]
  },
  {
   "cell_type": "code",
   "execution_count": 17,
   "id": "8ee8f932-a5cb-4511-a122-759776f59479",
   "metadata": {},
   "outputs": [
    {
     "ename": "KeyError",
     "evalue": "'addis Ababa'",
     "output_type": "error",
     "traceback": [
      "\u001b[1;31m---------------------------------------------------------------------------\u001b[0m",
      "\u001b[1;31mKeyError\u001b[0m                                  Traceback (most recent call last)",
      "Cell \u001b[1;32mIn[17], line 1\u001b[0m\n\u001b[1;32m----> 1\u001b[0m \u001b[38;5;28mprint\u001b[39m(\u001b[43mcapital_city\u001b[49m\u001b[43m[\u001b[49m\u001b[38;5;124;43m'\u001b[39;49m\u001b[38;5;124;43maddis Ababa\u001b[39;49m\u001b[38;5;124;43m'\u001b[39;49m\u001b[43m]\u001b[49m) \u001b[38;5;66;03m#throws error message\u001b[39;00m\n",
      "\u001b[1;31mKeyError\u001b[0m: 'addis Ababa'"
     ]
    }
   ],
   "source": [
    "print(capital_city['addis Ababa']) #throws error message"
   ]
  },
  {
   "cell_type": "code",
   "execution_count": 18,
   "id": "30ee6048-d7f2-449e-9051-8656c4ff8c64",
   "metadata": {},
   "outputs": [
    {
     "name": "stdout",
     "output_type": "stream",
     "text": [
      "5 is of type <class 'int'>\n",
      "2.0 is of type <class 'float'>\n",
      "(1+2j) is of type <class 'complex'>\n"
     ]
    }
   ],
   "source": [
    "#python numeric datatype is usually used to store numeric variables\n",
    "#integers,floating numbers and complex numbers all fall in this category\n",
    "#int - holds signed integers of non-limited length.\n",
    "#float - holds floating decimal points and it's accurate up to 15 decimal places.\n",
    "#complex - holds complex numbers.\n",
    "\n",
    "#creating numeric datatypes\n",
    "\n",
    "num1 = 5\n",
    "print(num1, 'is of type', type(num1))\n",
    "\n",
    "num2 = 2.0\n",
    "print(num2, 'is of type', type(num2))\n",
    "\n",
    "num3 = 1+2j\n",
    "print(num3, 'is of type', type(num3))\n",
    "\n"
   ]
  }
 ],
 "metadata": {
  "kernelspec": {
   "display_name": "Python 3 (ipykernel)",
   "language": "python",
   "name": "python3"
  },
  "language_info": {
   "codemirror_mode": {
    "name": "ipython",
    "version": 3
   },
   "file_extension": ".py",
   "mimetype": "text/x-python",
   "name": "python",
   "nbconvert_exporter": "python",
   "pygments_lexer": "ipython3",
   "version": "3.12.2"
  }
 },
 "nbformat": 4,
 "nbformat_minor": 5
}
